{
  "nbformat": 4,
  "nbformat_minor": 0,
  "metadata": {
    "colab": {
      "name": "Grid search",
      "provenance": [],
      "toc_visible": true
    },
    "kernelspec": {
      "name": "python3",
      "display_name": "Python 3"
    },
    "language_info": {
      "name": "python"
    }
  },
  "cells": [
    {
      "cell_type": "markdown",
      "metadata": {
        "id": "VVMd_-OtYFZD"
      },
      "source": [
        "# Import Libraries"
      ]
    },
    {
      "cell_type": "code",
      "metadata": {
        "id": "sqMuURy8Za_I"
      },
      "source": [
        "import numpy\n",
        "from sklearn.model_selection import GridSearchCV\n",
        "from keras.models import Sequential\n",
        "from keras.layers import Dense\n",
        "from keras.layers import Dropout\n",
        "from keras.wrappers.scikit_learn import KerasClassifier\n",
        "from keras.constraints import maxnorm"
      ],
      "execution_count": 3,
      "outputs": []
    },
    {
      "cell_type": "markdown",
      "metadata": {
        "id": "fBZbKQsoZflv"
      },
      "source": [
        "# Function to create model, required for KerasClassifier"
      ]
    },
    {
      "cell_type": "code",
      "metadata": {
        "id": "34FAHC3OZmXi"
      },
      "source": [
        "def create_model(neurons=1):\n",
        "\t# create model\n",
        "\tmodel = Sequential()\n",
        "\tmodel.add(Dense(neurons, input_dim=8, kernel_initializer='uniform', activation='linear', kernel_constraint=maxnorm(4)))\n",
        "\tmodel.add(Dropout(0.2))\n",
        "\tmodel.add(Dense(1, kernel_initializer='uniform', activation='sigmoid'))\n",
        "\t# Compile model\n",
        "\tmodel.compile(loss='binary_crossentropy', optimizer='adam', metrics=['accuracy'])\n",
        "\treturn model"
      ],
      "execution_count": 4,
      "outputs": []
    },
    {
      "cell_type": "markdown",
      "metadata": {
        "id": "nLzmwvqtZwz4"
      },
      "source": [
        "# fix random seed for reproducibility"
      ]
    },
    {
      "cell_type": "code",
      "metadata": {
        "id": "BdL-Uk4LZypO"
      },
      "source": [
        "seed = 7\n",
        "numpy.random.seed(seed)"
      ],
      "execution_count": 5,
      "outputs": []
    },
    {
      "cell_type": "markdown",
      "metadata": {
        "id": "Xyr8aru3Z2N3"
      },
      "source": [
        "# load dataset"
      ]
    },
    {
      "cell_type": "code",
      "metadata": {
        "id": "bFaiySg0Z4bf"
      },
      "source": [
        "dataset = numpy.loadtxt(\"pima-indians-diabetes.csv\", delimiter=\",\")"
      ],
      "execution_count": 6,
      "outputs": []
    },
    {
      "cell_type": "markdown",
      "metadata": {
        "id": "PoiAUnR_Z9e3"
      },
      "source": [
        "# split into input (X) and output (Y) variables"
      ]
    },
    {
      "cell_type": "code",
      "metadata": {
        "id": "nqBGziv2aA5J"
      },
      "source": [
        "X = dataset[:,0:8]\n",
        "Y = dataset[:,8]"
      ],
      "execution_count": 7,
      "outputs": []
    },
    {
      "cell_type": "markdown",
      "metadata": {
        "id": "2v5UM2u7aD2X"
      },
      "source": [
        "# create model"
      ]
    },
    {
      "cell_type": "code",
      "metadata": {
        "id": "TUD3m3XRaHrn"
      },
      "source": [
        "model = KerasClassifier(build_fn=create_model, epochs=100, batch_size=10, verbose=0)"
      ],
      "execution_count": 8,
      "outputs": []
    },
    {
      "cell_type": "markdown",
      "metadata": {
        "id": "1ilFi5UgaO5X"
      },
      "source": [
        "# define the grid search parameters"
      ]
    },
    {
      "cell_type": "code",
      "metadata": {
        "id": "s2LMyDKIaTSe"
      },
      "source": [
        "neurons = [1, 5, 10, 15, 20, 25, 30]\n",
        "param_grid = dict(neurons=neurons)\n",
        "grid = GridSearchCV(estimator=model, param_grid=param_grid, n_jobs=-1, cv=3)\n",
        "grid_result = grid.fit(X, Y)"
      ],
      "execution_count": 9,
      "outputs": []
    },
    {
      "cell_type": "markdown",
      "metadata": {
        "id": "NqJiD0wmabBY"
      },
      "source": [
        "# summarize results"
      ]
    },
    {
      "cell_type": "code",
      "metadata": {
        "colab": {
          "base_uri": "https://localhost:8080/"
        },
        "id": "q9OGy_w1aYh3",
        "outputId": "18204e0f-f0b3-4402-b25c-08dabb0c6e9a"
      },
      "source": [
        "print(\"Best: %f using %s\" % (grid_result.best_score_, grid_result.best_params_))\n",
        "means = grid_result.cv_results_['mean_test_score']\n",
        "stds = grid_result.cv_results_['std_test_score']\n",
        "params = grid_result.cv_results_['params']\n",
        "for mean, stdev, param in zip(means, stds, params):\n",
        "    print(\"%f (%f) with: %r\" % (mean, stdev, param))"
      ],
      "execution_count": 10,
      "outputs": [
        {
          "output_type": "stream",
          "name": "stdout",
          "text": [
            "Best: 0.722656 using {'neurons': 20}\n",
            "0.700521 (0.019225) with: {'neurons': 1}\n",
            "0.699219 (0.011500) with: {'neurons': 5}\n",
            "0.720052 (0.018688) with: {'neurons': 10}\n",
            "0.701823 (0.018688) with: {'neurons': 15}\n",
            "0.722656 (0.025315) with: {'neurons': 20}\n",
            "0.714844 (0.022326) with: {'neurons': 25}\n",
            "0.710938 (0.011049) with: {'neurons': 30}\n"
          ]
        }
      ]
    }
  ]
}